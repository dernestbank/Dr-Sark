{
 "cells": [
  {
   "cell_type": "code",
   "execution_count": null,
   "metadata": {},
   "outputs": [],
   "source": []
  },
  {
   "cell_type": "code",
   "execution_count": 1,
   "metadata": {},
   "outputs": [],
   "source": [
    "import numpy as np\n",
    "import pandas as pd\n",
    "import matplotlib.pyplot as plt\n",
    "import seaborn as sns\n",
    "\n",
    "import tensorflow as tf\n",
    "\n",
    "from tensorflow import keras\n",
    "from tensorflow.keras import layers\n",
    "from tensorflow.keras.layers.experimental import preprocessing\n",
    "\n",
    "from sklearn import datasets, metrics, model_selection\n",
    "\n",
    "\n",
    "\n",
    "from keras.models import Sequential\n",
    "from keras.layers import Dense\n",
    "from keras.wrappers.scikit_learn import KerasClassifier\n",
    "from keras.utils import np_utils\n",
    "from sklearn.model_selection import cross_val_score\n",
    "from sklearn.model_selection import KFold\n",
    "from sklearn.preprocessing import LabelEncoder\n",
    "from sklearn.pipeline import Pipeline\n",
    "...\n",
    "\n",
    "\n",
    "\n",
    "\n",
    "\n",
    "from keras.models import Sequential\n",
    "from keras.layers import Conv2D, Dense, MaxPool2D, Dropout, Flatten, AveragePooling2D, BatchNormalization\n",
    "from keras.optimizers import Adam\n",
    "from keras.preprocessing.image import ImageDataGenerator\n",
    "from keras.callbacks import ReduceLROnPlateau\n",
    "from sklearn.model_selection import train_test_split\n",
    "import matplotlib.pyplot as plt\n",
    "import seaborn as sns\n",
    "import os\n",
    "# import cv2\n",
    "from PIL import Image\n",
    "import tensorflow as tf"
   ]
  },
  {
   "cell_type": "markdown",
   "metadata": {},
   "source": [
    "# read data"
   ]
  },
  {
   "cell_type": "code",
   "execution_count": 13,
   "metadata": {},
   "outputs": [
    {
     "data": {
      "text/html": [
       "<div>\n",
       "<style scoped>\n",
       "    .dataframe tbody tr th:only-of-type {\n",
       "        vertical-align: middle;\n",
       "    }\n",
       "\n",
       "    .dataframe tbody tr th {\n",
       "        vertical-align: top;\n",
       "    }\n",
       "\n",
       "    .dataframe thead th {\n",
       "        text-align: right;\n",
       "    }\n",
       "</style>\n",
       "<table border=\"1\" class=\"dataframe\">\n",
       "  <thead>\n",
       "    <tr style=\"text-align: right;\">\n",
       "      <th></th>\n",
       "      <th>Voltage</th>\n",
       "      <th>SD</th>\n",
       "      <th>Y</th>\n",
       "    </tr>\n",
       "  </thead>\n",
       "  <tbody>\n",
       "    <tr>\n",
       "      <th>0</th>\n",
       "      <td>1.114175</td>\n",
       "      <td>0.2315</td>\n",
       "      <td>bubble</td>\n",
       "    </tr>\n",
       "    <tr>\n",
       "      <th>1</th>\n",
       "      <td>1.169525</td>\n",
       "      <td>0.9970</td>\n",
       "      <td>bubble</td>\n",
       "    </tr>\n",
       "    <tr>\n",
       "      <th>2</th>\n",
       "      <td>1.061900</td>\n",
       "      <td>0.3505</td>\n",
       "      <td>bubble</td>\n",
       "    </tr>\n",
       "    <tr>\n",
       "      <th>3</th>\n",
       "      <td>1.060875</td>\n",
       "      <td>0.3820</td>\n",
       "      <td>bubble</td>\n",
       "    </tr>\n",
       "    <tr>\n",
       "      <th>4</th>\n",
       "      <td>1.121350</td>\n",
       "      <td>0.2205</td>\n",
       "      <td>bubble</td>\n",
       "    </tr>\n",
       "    <tr>\n",
       "      <th>...</th>\n",
       "      <td>...</td>\n",
       "      <td>...</td>\n",
       "      <td>...</td>\n",
       "    </tr>\n",
       "    <tr>\n",
       "      <th>140</th>\n",
       "      <td>10.010150</td>\n",
       "      <td>1.5670</td>\n",
       "      <td>annular</td>\n",
       "    </tr>\n",
       "    <tr>\n",
       "      <th>141</th>\n",
       "      <td>9.958900</td>\n",
       "      <td>1.7680</td>\n",
       "      <td>annular</td>\n",
       "    </tr>\n",
       "    <tr>\n",
       "      <th>142</th>\n",
       "      <td>9.922000</td>\n",
       "      <td>1.7670</td>\n",
       "      <td>annular</td>\n",
       "    </tr>\n",
       "    <tr>\n",
       "      <th>143</th>\n",
       "      <td>9.909700</td>\n",
       "      <td>1.6560</td>\n",
       "      <td>annular</td>\n",
       "    </tr>\n",
       "    <tr>\n",
       "      <th>144</th>\n",
       "      <td>9.062025</td>\n",
       "      <td>2.9800</td>\n",
       "      <td>annular</td>\n",
       "    </tr>\n",
       "  </tbody>\n",
       "</table>\n",
       "<p>145 rows × 3 columns</p>\n",
       "</div>"
      ],
      "text/plain": [
       "       Voltage      SD        Y\n",
       "0     1.114175  0.2315   bubble\n",
       "1     1.169525  0.9970   bubble\n",
       "2     1.061900  0.3505   bubble\n",
       "3     1.060875  0.3820   bubble\n",
       "4     1.121350  0.2205   bubble\n",
       "..         ...     ...      ...\n",
       "140  10.010150  1.5670  annular\n",
       "141   9.958900  1.7680  annular\n",
       "142   9.922000  1.7670  annular\n",
       "143   9.909700  1.6560  annular\n",
       "144   9.062025  2.9800  annular\n",
       "\n",
       "[145 rows x 3 columns]"
      ]
     },
     "execution_count": 13,
     "metadata": {},
     "output_type": "execute_result"
    }
   ],
   "source": [
    "xlsx = pd.ExcelFile('./data.xlsx')\n",
    "df = pd.read_excel(xlsx, 'training data')\n",
    "dataset1= df.copy()\n",
    "dataset1"
   ]
  },
  {
   "cell_type": "code",
   "execution_count": null,
   "metadata": {},
   "outputs": [],
   "source": []
  },
  {
   "cell_type": "code",
   "execution_count": null,
   "metadata": {},
   "outputs": [],
   "source": []
  },
  {
   "cell_type": "markdown",
   "metadata": {},
   "source": [
    "# standadise data"
   ]
  },
  {
   "cell_type": "code",
   "execution_count": null,
   "metadata": {},
   "outputs": [],
   "source": [
    "from sklearn.preprocessing import StandardScaler\n",
    "scaler1 = StandardScaler()\n",
    "Sd_scaler1 =scaler1.fit(dataset1)\n",
    "data1_Sd= Sd_scaler1.transform(dataset1)\n",
    "print(data1_Sd)\n",
    "    \n",
    "    #convert to dataframe\n",
    "dataset= pd.DataFrame(data1_Sd, columns=dataset1.keys())"
   ]
  },
  {
   "cell_type": "markdown",
   "metadata": {},
   "source": [
    "# split ddata "
   ]
  },
  {
   "cell_type": "code",
   "execution_count": 3,
   "metadata": {},
   "outputs": [
    {
     "name": "stdout",
     "output_type": "stream",
     "text": [
      "train samples: 101\n",
      "test samples 44\n"
     ]
    }
   ],
   "source": [
    "inputs = dataset1.copy()\n",
    "\n",
    "target = inputs.pop('Y')\n",
    "\n",
    "\n",
    "\n",
    "Y=target\n",
    "# encode class values as integers\n",
    "encoder = LabelEncoder()\n",
    "encoder.fit(Y)\n",
    "encoded_Y = encoder.transform(Y)\n",
    "# convert integers to dummy variables (i.e. one hot encoded)\n",
    "target_dm = np_utils.to_categorical(encoded_Y)\n",
    "\n",
    "\n",
    "train_input, test_input, train_target, test_target = model_selection.train_test_split(inputs, target_dm, train_size=0.7)\n",
    "\n",
    "print('train samples:', len(train_input))\n",
    "print('test samples', len(test_input))\n"
   ]
  },
  {
   "cell_type": "markdown",
   "metadata": {},
   "source": [
    "# encode label\n",
    "\n",
    "\n",
    "Y1=train_target\n",
    "# encode class values as integers\n",
    "encoder = LabelEncoder()\n",
    "encoder.fit(Y)\n",
    "encoded_Y = encoder.transform(Y)\n",
    "# convert integers to dummy variables (i.e. one hot encoded)\n",
    "train_target_dm = np_utils.to_categorical(encoded_Y)\n",
    "\n",
    "Y2=test_target\n",
    "# encode class values as integers\n",
    "encoder = LabelEncoder()\n",
    "encoder.fit(Y2)\n",
    "encoded_Y2 = encoder.transform(Y2)\n",
    "# convert integers to dummy variables (i.e. one hot encoded)\n",
    "test_target = np_utils.to_categorical(encoded_Y2)\n"
   ]
  },
  {
   "cell_type": "markdown",
   "metadata": {},
   "source": [
    "# Model"
   ]
  },
  {
   "cell_type": "code",
   "execution_count": null,
   "metadata": {},
   "outputs": [],
   "source": [
    " \n",
    "# define baseline model\n",
    "def baseline_model():\n",
    "    # create model\n",
    "    model = Sequential()\n",
    "    model.add(Dense(8, input_dim=2, activation='relu'))\n",
    "    model.add(Dense(4, activation='softmax'))\n",
    "    # Compile model\n",
    "    model.compile(loss='categorical_crossentropy', optimizer='adam', metrics=['accuracy'])\n",
    "    return model\n",
    " "
   ]
  },
  {
   "cell_type": "code",
   "execution_count": null,
   "metadata": {},
   "outputs": [],
   "source": [
    "#  Evaluate The Model with k-Fold Cross Validation\n",
    "\n",
    "estimator = KerasClassifier(build_fn=baseline_model, epochs=200, batch_size=5, verbose=0)\n",
    "kfold = KFold(n_splits=10, shuffle=True)\n",
    "results = cross_val_score(estimator, train_input, train_target_dm , cv=kfold)\n",
    "print(\"Baseline: %.2f%% (%.2f%%)\" % (results.mean()*100, results.std()*100))"
   ]
  },
  {
   "cell_type": "code",
   "execution_count": null,
   "metadata": {},
   "outputs": [],
   "source": []
  },
  {
   "cell_type": "code",
   "execution_count": null,
   "metadata": {},
   "outputs": [],
   "source": []
  },
  {
   "cell_type": "markdown",
   "metadata": {},
   "source": [
    "from keras.models import Sequential\n",
    "from keras.layers import Dense\n",
    "from keras.layers import Dropout\n",
    "\n",
    "model = Sequential()\n",
    "\n",
    "model.add(Dense(64,activation=\"relu\"\n",
    "#                           , input_shape=(dataset.shape[1]-1,),\n",
    "                        , input_shape=(dataset_pca.shape[1],),\n",
    "                          kernel_regularizer=\"l2\"\n",
    "                         ))\n",
    "model.add(Dropout(0.2))\n",
    "\n",
    "\n",
    "model.add(Dense(units = 1, activation= 'softmax'))\n",
    "              \n",
    "\n",
    "from keras.optimizers import Adam\n",
    "#opt = Adam(lr=0.001)   # Stochastic Gradient Descent (SGD) optimizer\n",
    "model.compile(loss=\"categorical_crossentropy\", optimizer=\"adam\", metrics=[\"accuracy\"])\n",
    "\n",
    "model.summary()\n",
    "    \n"
   ]
  },
  {
   "cell_type": "markdown",
   "metadata": {},
   "source": [
    "# Train"
   ]
  },
  {
   "cell_type": "code",
   "execution_count": 7,
   "metadata": {},
   "outputs": [
    {
     "name": "stdout",
     "output_type": "stream",
     "text": [
      "WARNING:tensorflow:`period` argument is deprecated. Please use `save_freq` to specify the frequency in number of batches seen.\n",
      "Epoch 1/70\n",
      "3/3 [==============================] - 0s 109ms/step - loss: 1.3720 - accuracy: 0.5248 - val_loss: 2.1194 - val_accuracy: 0.4091\n",
      "Epoch 2/70\n",
      "3/3 [==============================] - 0s 11ms/step - loss: 1.3519 - accuracy: 0.5248 - val_loss: 2.0884 - val_accuracy: 0.4091\n",
      "Epoch 3/70\n",
      "3/3 [==============================] - 0s 28ms/step - loss: 1.3305 - accuracy: 0.5248 - val_loss: 2.0590 - val_accuracy: 0.4091\n",
      "Epoch 4/70\n",
      "3/3 [==============================] - 0s 27ms/step - loss: 1.3108 - accuracy: 0.5248 - val_loss: 2.0298 - val_accuracy: 0.4091\n",
      "Epoch 5/70\n",
      "3/3 [==============================] - 0s 28ms/step - loss: 1.2914 - accuracy: 0.5248 - val_loss: 1.9998 - val_accuracy: 0.4091\n",
      "Epoch 6/70\n",
      "3/3 [==============================] - 0s 17ms/step - loss: 1.2719 - accuracy: 0.5248 - val_loss: 1.9695 - val_accuracy: 0.4091\n",
      "Epoch 7/70\n",
      "3/3 [==============================] - 0s 11ms/step - loss: 1.2520 - accuracy: 0.5248 - val_loss: 1.9401 - val_accuracy: 0.4091\n",
      "Epoch 8/70\n",
      "3/3 [==============================] - 0s 8ms/step - loss: 1.2353 - accuracy: 0.5248 - val_loss: 1.9099 - val_accuracy: 0.4091\n",
      "Epoch 9/70\n",
      "3/3 [==============================] - 0s 9ms/step - loss: 1.2156 - accuracy: 0.5248 - val_loss: 1.8817 - val_accuracy: 0.4091\n",
      "Epoch 10/70\n",
      "3/3 [==============================] - 0s 12ms/step - loss: 1.1976 - accuracy: 0.5248 - val_loss: 1.8529 - val_accuracy: 0.4091\n",
      "Epoch 11/70\n",
      "3/3 [==============================] - 0s 13ms/step - loss: 1.1802 - accuracy: 0.5248 - val_loss: 1.8244 - val_accuracy: 0.4091\n",
      "Epoch 12/70\n",
      "3/3 [==============================] - 0s 13ms/step - loss: 1.1625 - accuracy: 0.5248 - val_loss: 1.7966 - val_accuracy: 0.4091\n",
      "Epoch 13/70\n",
      "3/3 [==============================] - 0s 10ms/step - loss: 1.1463 - accuracy: 0.5248 - val_loss: 1.7671 - val_accuracy: 0.4318\n",
      "Epoch 14/70\n",
      "3/3 [==============================] - 0s 12ms/step - loss: 1.1295 - accuracy: 0.5347 - val_loss: 1.7397 - val_accuracy: 0.4545\n",
      "Epoch 15/70\n",
      "3/3 [==============================] - 0s 12ms/step - loss: 1.1136 - accuracy: 0.6238 - val_loss: 1.7126 - val_accuracy: 0.4545\n",
      "Epoch 16/70\n",
      "3/3 [==============================] - 0s 9ms/step - loss: 1.0977 - accuracy: 0.6535 - val_loss: 1.6862 - val_accuracy: 0.4773\n",
      "Epoch 17/70\n",
      "3/3 [==============================] - 0s 9ms/step - loss: 1.0816 - accuracy: 0.6733 - val_loss: 1.6610 - val_accuracy: 0.5000\n",
      "Epoch 18/70\n",
      "3/3 [==============================] - 0s 9ms/step - loss: 1.0671 - accuracy: 0.6832 - val_loss: 1.6350 - val_accuracy: 0.5000\n",
      "Epoch 19/70\n",
      "3/3 [==============================] - 0s 10ms/step - loss: 1.0536 - accuracy: 0.6832 - val_loss: 1.6098 - val_accuracy: 0.5000\n",
      "Epoch 20/70\n",
      "3/3 [==============================] - 0s 11ms/step - loss: 1.0376 - accuracy: 0.6832 - val_loss: 1.5864 - val_accuracy: 0.4773\n",
      "Epoch 21/70\n",
      "3/3 [==============================] - 0s 12ms/step - loss: 1.0247 - accuracy: 0.5941 - val_loss: 1.5623 - val_accuracy: 0.4773\n",
      "Epoch 22/70\n",
      "3/3 [==============================] - 0s 12ms/step - loss: 1.0107 - accuracy: 0.5941 - val_loss: 1.5382 - val_accuracy: 0.4773\n",
      "Epoch 23/70\n",
      "3/3 [==============================] - 0s 12ms/step - loss: 0.9977 - accuracy: 0.5941 - val_loss: 1.5144 - val_accuracy: 0.4545\n",
      "Epoch 24/70\n",
      "3/3 [==============================] - 0s 11ms/step - loss: 0.9838 - accuracy: 0.5842 - val_loss: 1.4934 - val_accuracy: 0.4545\n",
      "Epoch 25/70\n",
      "3/3 [==============================] - 0s 12ms/step - loss: 0.9709 - accuracy: 0.5743 - val_loss: 1.4704 - val_accuracy: 0.4545\n",
      "Epoch 26/70\n",
      "3/3 [==============================] - 0s 12ms/step - loss: 0.9589 - accuracy: 0.5545 - val_loss: 1.4471 - val_accuracy: 0.4318\n",
      "Epoch 27/70\n",
      "3/3 [==============================] - 0s 11ms/step - loss: 0.9460 - accuracy: 0.5446 - val_loss: 1.4251 - val_accuracy: 0.4318\n",
      "Epoch 28/70\n",
      "3/3 [==============================] - 0s 12ms/step - loss: 0.9340 - accuracy: 0.5347 - val_loss: 1.4036 - val_accuracy: 0.4091\n",
      "Epoch 29/70\n",
      "3/3 [==============================] - 0s 12ms/step - loss: 0.9226 - accuracy: 0.5248 - val_loss: 1.3834 - val_accuracy: 0.4091\n",
      "Epoch 30/70\n",
      "3/3 [==============================] - 0s 12ms/step - loss: 0.9100 - accuracy: 0.5248 - val_loss: 1.3654 - val_accuracy: 0.4091\n",
      "Epoch 31/70\n",
      "3/3 [==============================] - 0s 9ms/step - loss: 0.8994 - accuracy: 0.5248 - val_loss: 1.3465 - val_accuracy: 0.4091\n",
      "Epoch 32/70\n",
      "3/3 [==============================] - 0s 9ms/step - loss: 0.8878 - accuracy: 0.5248 - val_loss: 1.3284 - val_accuracy: 0.4091\n",
      "Epoch 33/70\n",
      "3/3 [==============================] - 0s 9ms/step - loss: 0.8777 - accuracy: 0.5248 - val_loss: 1.3090 - val_accuracy: 0.4091\n",
      "Epoch 34/70\n",
      "3/3 [==============================] - 0s 10ms/step - loss: 0.8665 - accuracy: 0.5446 - val_loss: 1.2917 - val_accuracy: 0.4545\n",
      "Epoch 35/70\n",
      "3/3 [==============================] - 0s 10ms/step - loss: 0.8563 - accuracy: 0.6535 - val_loss: 1.2739 - val_accuracy: 0.5000\n",
      "Epoch 36/70\n",
      "3/3 [==============================] - 0s 11ms/step - loss: 0.8453 - accuracy: 0.6733 - val_loss: 1.2567 - val_accuracy: 0.5000\n",
      "Epoch 37/70\n",
      "3/3 [==============================] - 0s 7ms/step - loss: 0.8361 - accuracy: 0.6733 - val_loss: 1.2382 - val_accuracy: 0.5000\n",
      "Epoch 38/70\n",
      "3/3 [==============================] - 0s 11ms/step - loss: 0.8258 - accuracy: 0.6733 - val_loss: 1.2194 - val_accuracy: 0.5000\n",
      "Epoch 39/70\n",
      "3/3 [==============================] - 0s 8ms/step - loss: 0.8162 - accuracy: 0.6832 - val_loss: 1.2006 - val_accuracy: 0.5000\n",
      "Epoch 40/70\n",
      "3/3 [==============================] - 0s 8ms/step - loss: 0.8061 - accuracy: 0.6832 - val_loss: 1.1838 - val_accuracy: 0.5000\n",
      "Epoch 41/70\n",
      "3/3 [==============================] - 0s 9ms/step - loss: 0.7973 - accuracy: 0.6832 - val_loss: 1.1670 - val_accuracy: 0.5000\n",
      "Epoch 42/70\n",
      "3/3 [==============================] - 0s 10ms/step - loss: 0.7884 - accuracy: 0.6832 - val_loss: 1.1513 - val_accuracy: 0.5000\n",
      "Epoch 43/70\n",
      "3/3 [==============================] - 0s 10ms/step - loss: 0.7805 - accuracy: 0.6832 - val_loss: 1.1332 - val_accuracy: 0.5000\n",
      "Epoch 44/70\n",
      "3/3 [==============================] - 0s 13ms/step - loss: 0.7706 - accuracy: 0.6832 - val_loss: 1.1167 - val_accuracy: 0.5000\n",
      "Epoch 45/70\n",
      "3/3 [==============================] - 0s 16ms/step - loss: 0.7628 - accuracy: 0.6832 - val_loss: 1.0991 - val_accuracy: 0.5000\n",
      "Epoch 46/70\n",
      "3/3 [==============================] - 0s 18ms/step - loss: 0.7543 - accuracy: 0.6832 - val_loss: 1.0832 - val_accuracy: 0.5000\n",
      "Epoch 47/70\n",
      "3/3 [==============================] - 0s 19ms/step - loss: 0.7460 - accuracy: 0.6832 - val_loss: 1.0693 - val_accuracy: 0.5000\n",
      "Epoch 48/70\n",
      "3/3 [==============================] - 0s 20ms/step - loss: 0.7379 - accuracy: 0.6832 - val_loss: 1.0546 - val_accuracy: 0.5000\n",
      "Epoch 49/70\n",
      "3/3 [==============================] - 0s 14ms/step - loss: 0.7315 - accuracy: 0.6832 - val_loss: 1.0392 - val_accuracy: 0.5000\n",
      "Epoch 50/70\n",
      "3/3 [==============================] - 0s 14ms/step - loss: 0.7235 - accuracy: 0.6832 - val_loss: 1.0267 - val_accuracy: 0.5000\n",
      "Epoch 51/70\n",
      "3/3 [==============================] - 0s 14ms/step - loss: 0.7177 - accuracy: 0.6832 - val_loss: 1.0104 - val_accuracy: 0.5000\n",
      "Epoch 52/70\n",
      "3/3 [==============================] - 0s 13ms/step - loss: 0.7101 - accuracy: 0.6832 - val_loss: 0.9970 - val_accuracy: 0.5000\n",
      "Epoch 53/70\n",
      "3/3 [==============================] - 0s 20ms/step - loss: 0.7039 - accuracy: 0.6832 - val_loss: 0.9835 - val_accuracy: 0.5000\n",
      "Epoch 54/70\n",
      "3/3 [==============================] - 0s 16ms/step - loss: 0.6975 - accuracy: 0.6832 - val_loss: 0.9714 - val_accuracy: 0.5000\n",
      "Epoch 55/70\n",
      "3/3 [==============================] - 0s 15ms/step - loss: 0.6916 - accuracy: 0.6832 - val_loss: 0.9592 - val_accuracy: 0.5000\n",
      "Epoch 56/70\n",
      "3/3 [==============================] - 0s 14ms/step - loss: 0.6860 - accuracy: 0.6832 - val_loss: 0.9476 - val_accuracy: 0.5000\n",
      "Epoch 57/70\n",
      "3/3 [==============================] - 0s 13ms/step - loss: 0.6799 - accuracy: 0.6832 - val_loss: 0.9379 - val_accuracy: 0.5000\n",
      "Epoch 58/70\n",
      "3/3 [==============================] - 0s 17ms/step - loss: 0.6747 - accuracy: 0.6832 - val_loss: 0.9272 - val_accuracy: 0.5000\n"
     ]
    },
    {
     "name": "stdout",
     "output_type": "stream",
     "text": [
      "Epoch 59/70\n",
      "3/3 [==============================] - 0s 15ms/step - loss: 0.6696 - accuracy: 0.6832 - val_loss: 0.9174 - val_accuracy: 0.5000\n",
      "Epoch 60/70\n",
      "3/3 [==============================] - 0s 15ms/step - loss: 0.6643 - accuracy: 0.6832 - val_loss: 0.9092 - val_accuracy: 0.5000\n",
      "Epoch 61/70\n",
      "3/3 [==============================] - 0s 20ms/step - loss: 0.6595 - accuracy: 0.6832 - val_loss: 0.9014 - val_accuracy: 0.5000\n",
      "Epoch 62/70\n",
      "3/3 [==============================] - 0s 21ms/step - loss: 0.6545 - accuracy: 0.6832 - val_loss: 0.8949 - val_accuracy: 0.5000\n",
      "Epoch 63/70\n",
      "3/3 [==============================] - 0s 23ms/step - loss: 0.6500 - accuracy: 0.6832 - val_loss: 0.8865 - val_accuracy: 0.5000\n",
      "Epoch 64/70\n",
      "3/3 [==============================] - 0s 24ms/step - loss: 0.6454 - accuracy: 0.6832 - val_loss: 0.8788 - val_accuracy: 0.5000\n",
      "Epoch 65/70\n",
      "3/3 [==============================] - 0s 13ms/step - loss: 0.6411 - accuracy: 0.6832 - val_loss: 0.8710 - val_accuracy: 0.5000\n",
      "Epoch 66/70\n",
      "3/3 [==============================] - 0s 22ms/step - loss: 0.6369 - accuracy: 0.6832 - val_loss: 0.8634 - val_accuracy: 0.5000\n",
      "Epoch 67/70\n",
      "3/3 [==============================] - 0s 15ms/step - loss: 0.6326 - accuracy: 0.6832 - val_loss: 0.8563 - val_accuracy: 0.5000\n",
      "Epoch 68/70\n",
      "3/3 [==============================] - 0s 23ms/step - loss: 0.6284 - accuracy: 0.6832 - val_loss: 0.8504 - val_accuracy: 0.5000\n",
      "Epoch 69/70\n",
      "3/3 [==============================] - 0s 26ms/step - loss: 0.6246 - accuracy: 0.6832 - val_loss: 0.8432 - val_accuracy: 0.5000\n",
      "Epoch 70/70\n",
      "3/3 [==============================] - 0s 26ms/step - loss: 0.6202 - accuracy: 0.6832 - val_loss: 0.8375 - val_accuracy: 0.5000\n"
     ]
    },
    {
     "data": {
      "text/plain": [
       "<tensorflow.python.keras.callbacks.History at 0x19be4ce61c0>"
      ]
     },
     "execution_count": 7,
     "metadata": {},
     "output_type": "execute_result"
    }
   ],
   "source": [
    " # create model\n",
    "model = Sequential()\n",
    "model.add(Dense(8, input_dim=2, activation='relu'))\n",
    "model.add(Dense(4, activation='softmax'))\n",
    "    # Compile model\n",
    "model.compile(loss='categorical_crossentropy', optimizer='adam', metrics=['accuracy'])\n",
    "\n",
    "\n",
    "\n",
    "from keras.callbacks import ModelCheckpoint, EarlyStopping\n",
    "checkpoint = ModelCheckpoint(\"ANN_1.h5\", monitor='val_accuracy', verbose=1, save_best_only=True, save_weights_only=False, mode='auto', period=1)\n",
    "early = EarlyStopping(monitor='val_accuracy', min_delta=0, patience=20, verbose=1, mode='auto')\n",
    "\n",
    "history=model.fit(train_input,train_target,batch_size =40,epochs=70,verbose=1,\n",
    "                  validation_data=(test_input, test_target),\n",
    "#                   callbacks=[checkpoint,early],\n",
    "                  shuffle=True)\n",
    "history"
   ]
  },
  {
   "cell_type": "markdown",
   "metadata": {},
   "source": [
    "\n",
    "model.fit(\n",
    "    train_input, train_target,\n",
    "    validation_split=0.3,\n",
    "    verbose=0,\n",
    "    batch_size = 2,\n",
    "    \n",
    "\n",
    "    #early stopping\n",
    "    callbacks= keras.callbacks.EarlyStopping(monitor='val_loss',patience=10)\n",
    "    \n",
    "    \n",
    ")"
   ]
  },
  {
   "cell_type": "code",
   "execution_count": 8,
   "metadata": {},
   "outputs": [
    {
     "data": {
      "image/png": "[encoded data removed]",
      "text/plain": [
       "<Figure size 432x288 with 1 Axes>"
      ]
     },
     "metadata": {
      "needs_background": "light"
     },
     "output_type": "display_data"
    }
   ],
   "source": [
    "# ANN mdel accuracy & loss visualtion on Train & Validation dataset\n",
    "\n",
    "import keras\n",
    "from matplotlib import pyplot as plt\n",
    "#history = model1.fit(train_x, train_y,validation_split = 0.1, epochs=50, batch_size=4)\n",
    "plt.plot(history.history['accuracy'])\n",
    "plt.plot(history.history['val_accuracy'])\n",
    "plt.title('model accuracy')\n",
    "plt.ylabel('accuracy')\n",
    "plt.xlabel('epoch')\n",
    "plt.legend(['train', 'val'], loc='upper left')\n",
    "plt.show()"
   ]
  },
  {
   "cell_type": "code",
   "execution_count": 9,
   "metadata": {},
   "outputs": [
    {
     "data": {
      "image/png": "[encoded data removed]",
      "text/plain": [
       "<Figure size 432x288 with 1 Axes>"
      ]
     },
     "metadata": {
      "needs_background": "light"
     },
     "output_type": "display_data"
    }
   ],
   "source": [
    "\n",
    "plt.plot(history.history['loss'])\n",
    "plt.plot(history.history['val_loss'])\n",
    "plt.title('model loss')\n",
    "plt.ylabel('loss')\n",
    "plt.xlabel('epoch')\n",
    "plt.legend(['train', 'val'], loc='upper left')\n",
    "plt.show()"
   ]
  },
  {
   "cell_type": "markdown",
   "metadata": {},
   "source": [
    "Evaluate the Model\n",
    "* Learning curves (Loss)(skip)\n",
    "* Learning curves (Accuracy)\n",
    "* Confusion matrix"
   ]
  },
  {
   "cell_type": "code",
   "execution_count": 10,
   "metadata": {},
   "outputs": [
    {
     "data": {
      "image/png": "[encoded data removed]",
      "text/plain": [
       "<Figure size 432x288 with 1 Axes>"
      ]
     },
     "metadata": {
      "needs_background": "light"
     },
     "output_type": "display_data"
    }
   ],
   "source": [
    "\n",
    "history_dict = history.history\n",
    "\n",
    "# learning curve\n",
    "# accuracy\n",
    "acc = history_dict['accuracy']\n",
    "val_acc = history_dict['val_accuracy']\n",
    "\n",
    "# loss\n",
    "loss = history_dict['loss']\n",
    "val_loss = history_dict['val_loss']\n",
    "\n",
    "# range of X (no. of epochs)\n",
    "epochs = range(1, len(acc) + 1)\n",
    "\n",
    "# plot\n",
    "# \"r\" is for \"solid red line\"\n",
    "plt.plot(epochs, acc, 'r', label='Training accuracy')\n",
    "# b is for \"solid blue line\"\n",
    "plt.plot(epochs, val_acc, 'b', label='Validation accuracy')\n",
    "plt.title('Training and validation accuracy')\n",
    "plt.xlabel('Epochs')\n",
    "plt.ylabel('Accuracy')\n",
    "plt.legend()\n",
    "\n",
    "plt.show()"
   ]
  },
  {
   "cell_type": "code",
   "execution_count": 11,
   "metadata": {},
   "outputs": [
    {
     "name": "stdout",
     "output_type": "stream",
     "text": [
      "[0.0847784  0.08141418 0.26247248 0.57133496]\n",
      "1.0\n",
      "              precision    recall  f1-score   support\n",
      "\n",
      "           0       0.50      1.00      0.67         4\n",
      "           1       0.00      0.00      0.00         5\n",
      "           2       0.00      0.00      0.00        17\n",
      "           3       0.50      1.00      0.67        18\n",
      "\n",
      "    accuracy                           0.50        44\n",
      "   macro avg       0.25      0.50      0.33        44\n",
      "weighted avg       0.25      0.50      0.33        44\n",
      "\n"
     ]
    },
    {
     "name": "stderr",
     "output_type": "stream",
     "text": [
      "D:\\anaconda3\\lib\\site-packages\\sklearn\\metrics\\_classification.py:1221: UndefinedMetricWarning: Precision and F-score are ill-defined and being set to 0.0 in labels with no predicted samples. Use `zero_division` parameter to control this behavior.\n",
      "  _warn_prf(average, modifier, msg_start, len(result))\n"
     ]
    }
   ],
   "source": [
    "\n",
    "from sklearn.metrics import confusion_matrix\n",
    "from sklearn.metrics import classification_report\n",
    "\n",
    "preds = model.predict(test_input) # see how the model did!\n",
    "print(preds[0]) # i'm spreading that prediction across three nodes and they sum to 1\n",
    "print(np.sum(preds[0])) # sum it up! Should be 1\n",
    "## [9.9999988e-01 1.3509347e-07 6.7064638e-16]\n",
    "## 1.0\n",
    "\n",
    "# Almost a perfect prediction\n",
    "# actual is left, predicted is top\n",
    "# names can be found by inspecting Y\n",
    "matrix = confusion_matrix(test_target.argmax(axis=1), preds.argmax(axis=1))\n",
    "matrix\n",
    "## array([[50,  0,  0],\n",
    "##        [ 0, 46,  4],\n",
    "##        [ 0,  1, 49]])\n",
    "\n",
    "\n",
    "# more detail on how well things were predicted\n",
    "print(classification_report(test_target.argmax(axis=1), preds.argmax(axis=1)))\n",
    "##               precision    recall  f1-score   support\n",
    "## \n",
    "##            0       1.00      1.00      1.00        50\n",
    "##            1       0.98      0.92      0.95        50\n",
    "##            2       0.92      0.98      0.95        50\n",
    "## \n",
    "##     accuracy                           0.97       150\n",
    "##    macro avg       0.97      0.97      0.97       150\n",
    "## weighted avg       0.97      0.97      0.97       150\n"
   ]
  },
  {
   "cell_type": "code",
   "execution_count": null,
   "metadata": {},
   "outputs": [],
   "source": []
  },
  {
   "cell_type": "code",
   "execution_count": null,
   "metadata": {},
   "outputs": [],
   "source": []
  },
  {
   "cell_type": "markdown",
   "metadata": {},
   "source": [
    "# Te`st"
   ]
  },
  {
   "cell_type": "code",
   "execution_count": null,
   "metadata": {},
   "outputs": [],
   "source": []
  },
  {
   "cell_type": "code",
   "execution_count": null,
   "metadata": {},
   "outputs": [],
   "source": []
  },
  {
   "cell_type": "code",
   "execution_count": null,
   "metadata": {},
   "outputs": [],
   "source": []
  },
  {
   "cell_type": "code",
   "execution_count": null,
   "metadata": {},
   "outputs": [],
   "source": []
  },
  {
   "cell_type": "code",
   "execution_count": null,
   "metadata": {},
   "outputs": [],
   "source": []
  },
  {
   "cell_type": "code",
   "execution_count": null,
   "metadata": {},
   "outputs": [],
   "source": [
    "xlsx2 = pd.ExcelFile('./data.xlsx')\n",
    "df2 = pd.read_excel(xlsx2, 'test data')\n",
    "dataset2= df2.copy()\n",
    "\n",
    "\n",
    "inputs = dataset2.copy()\n",
    "\n",
    "targetx = inputs.pop('Y')\n",
    "\n",
    "\n",
    "\n",
    "# print('train samples:', len(inputs))\n",
    "print('test samples', len(inputs))\n"
   ]
  },
  {
   "cell_type": "code",
   "execution_count": null,
   "metadata": {},
   "outputs": [],
   "source": [
    "Yx=targetx\n",
    "# encode class values as integers\n",
    "encoder = LabelEncoder()\n",
    "encoder.fit(Yx)\n",
    "encoded_Y = encoder.transform(Yx)\n",
    "# convert integers to dummy variables (i.e. one hot encoded)\n",
    "target_dm = np_utils.to_categorical(encoded_Y)"
   ]
  },
  {
   "cell_type": "code",
   "execution_count": null,
   "metadata": {},
   "outputs": [],
   "source": [
    "# Evaluating the model for convnet\n",
    "score = model.evaluate(test_x, test_y, verbose=0)\n",
    "print('Test Loss:', score[0])\n",
    "print('Test accuracy:', score[1])\n"
   ]
  },
  {
   "cell_type": "code",
   "execution_count": null,
   "metadata": {},
   "outputs": [],
   "source": []
  },
  {
   "cell_type": "code",
   "execution_count": null,
   "metadata": {},
   "outputs": [],
   "source": [
    "# Multi-Class Confusion Matrix for Car,Bike and Random Images after running ANN model\n",
    "\n",
    "from sklearn.metrics import classification_report,confusion_matrix\n",
    "Y_pred = model.predict(test_x)\n",
    "y_pred = np.argmax(Y_pred, axis=1)\n",
    "target_names = ['class 0(car)', 'class 1(bike)','class 2(random)']\n",
    "                                               \n",
    "print(classification_report(np.argmax(test_y,axis=1), y_pred,target_names=target_names))\n",
    "\n",
    "print(confusion_matrix(np.argmax(test_y,axis=1), y_pred))"
   ]
  },
  {
   "cell_type": "code",
   "execution_count": null,
   "metadata": {},
   "outputs": [],
   "source": []
  }
 ],
 "metadata": {
  "kernelspec": {
   "display_name": "Python 3",
   "language": "python",
   "name": "python3"
  },
  "language_info": {
   "codemirror_mode": {
    "name": "ipython",
    "version": 3
   },
   "file_extension": ".py",
   "mimetype": "text/x-python",
   "name": "python",
   "nbconvert_exporter": "python",
   "pygments_lexer": "ipython3",
   "version": "3.8.5"
  },
  "varInspector": {
   "cols": {
    "lenName": 16,
    "lenType": 16,
    "lenVar": 40
   },
   "kernels_config": {
    "python": {
     "delete_cmd_postfix": "",
     "delete_cmd_prefix": "del ",
     "library": "var_list.py",
     "varRefreshCmd": "print(var_dic_list())"
    },
    "r": {
     "delete_cmd_postfix": ") ",
     "delete_cmd_prefix": "rm(",
     "library": "var_list.r",
     "varRefreshCmd": "cat(var_dic_list()) "
    }
   },
   "types_to_exclude": [
    "module",
    "function",
    "builtin_function_or_method",
    "instance",
    "_Feature"
   ],
   "window_display": false
  }
 },
 "nbformat": 4,
 "nbformat_minor": 4
}
